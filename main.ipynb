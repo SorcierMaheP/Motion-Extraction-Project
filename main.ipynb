{
 "cells": [
  {
   "cell_type": "code",
   "execution_count": 2,
   "metadata": {},
   "outputs": [],
   "source": [
    "import cv2 as cv\n"
   ]
  },
  {
   "cell_type": "code",
   "execution_count": 3,
   "metadata": {},
   "outputs": [],
   "source": [
    "# list to store previous frames, needed to compute temporal changes \n",
    "frameList = []\n",
    "\n",
    "# number of previous frames to process:\n",
    "prevFrameNumber = 60\n",
    "\n",
    "currentFrameNumber = 0"
   ]
  },
  {
   "cell_type": "markdown",
   "metadata": {},
   "source": [
    "Posy method: \n",
    "1) Duplicate video\n",
    "2) Invert video, and decrease opacity to about 50%\n",
    "3) \"Shift the time of the video\"?\n",
    "\n",
    "<!-- trying a simple differnce between frames for now -->"
   ]
  },
  {
   "cell_type": "code",
   "execution_count": 5,
   "metadata": {},
   "outputs": [],
   "source": [
    "# create a video capture object, \n",
    "# sourcing it from a webcam with id 0 (the default one)\n",
    "#  replace the 0 with a filepath if using a video file instead \n",
    "cap = cv.VideoCapture(0)\n",
    "\n",
    "while True:\n",
    "    \n",
    "    # capture each frame from the video feed\n",
    "    _, frame = cap.read()\n",
    "    \n",
    "    frame = cv.cvtColor(frame, cv.COLOR_BGR2GRAY)\n",
    "    \n",
    "    #todo for visualising only, remove later\n",
    "    cv.imshow(\"live inpout\", frame)\n",
    "    \n",
    "    previousFrame = frame.copy()\n",
    "    \n",
    "    #  process each frame here: \n",
    "    \n",
    "    currentFrameNumber +=1\n",
    "    \n",
    "    if(currentFrameNumber >= prevFrameNumber):\n",
    "        \n",
    "        currentFrameNumber = 0\n",
    "        frameList.append(previousFrame)\n",
    "        previousFrame = frameList.pop(0)\n",
    "    \n",
    "    # frame = cv.subtract(previousFrame, frame)\n",
    "    \n",
    "    frame = cv.bitwise_not(previousFrame)\n",
    "    \n",
    "    # frame = cv.addWeighted(frameInverted, 100, frame, 50, 0)\n",
    "         \n",
    "        \n",
    "        \n",
    "    \n",
    "    # display the video in a window, per frame:\n",
    "    cv.imshow(\"video\", frame)\n",
    "    \n",
    "    # quit the loop if 'q' is pressed\n",
    "    #! close the window by typing \"q\" only, closing it normally will cause the kernel to crash, \n",
    "    #! among other things\n",
    "    \n",
    "    if cv.waitKey(1) == ord('q'):\n",
    "        break\n",
    "\n",
    "cap.release()\n",
    "cv.destroyAllWindows()\n",
    "    "
   ]
  }
 ],
 "metadata": {
  "kernelspec": {
   "display_name": "myEnv",
   "language": "python",
   "name": "python3"
  },
  "language_info": {
   "codemirror_mode": {
    "name": "ipython",
    "version": 3
   },
   "file_extension": ".py",
   "mimetype": "text/x-python",
   "name": "python",
   "nbconvert_exporter": "python",
   "pygments_lexer": "ipython3",
   "version": "3.10.7"
  }
 },
 "nbformat": 4,
 "nbformat_minor": 2
}
