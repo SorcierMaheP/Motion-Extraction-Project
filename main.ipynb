{
 "cells": [
  {
   "cell_type": "code",
   "execution_count": null,
   "metadata": {},
   "outputs": [],
   "source": [
    "import cv2 as cv\n"
   ]
  },
  {
   "cell_type": "code",
   "execution_count": null,
   "metadata": {},
   "outputs": [],
   "source": [
    "# list to store previous frames, needed to compute temporal changes \n",
    "# using it as a buffer here, with length = prevFrameNumber\n",
    "frameList = []\n",
    "\n",
    "# number of previous frames to process:\n",
    "prevFrameNumber = 3\n",
    "\n",
    "currentFrameNumber = 0\n",
    "\n",
    "# treshold for the final output:\n",
    "treshold = 150"
   ]
  },
  {
   "cell_type": "markdown",
   "metadata": {},
   "source": [
    "Posy method: \n",
    "1) Duplicate video\n",
    "2) Invert video, and decrease opacity to about 50%\n",
    "3) \"Shift the time of the video\"?\n",
    "\n",
    "<!-- trying a simple differnce between frames for now -->"
   ]
  },
  {
   "cell_type": "code",
   "execution_count": null,
   "metadata": {},
   "outputs": [],
   "source": [
    "# create a video capture object, \n",
    "# sourcing it from a webcam with id 0 (the default one)\n",
    "#  replace the 0 with a filepath if using a video file instead \n",
    "cap = cv.VideoCapture(0)\n",
    "\n",
    "# set video fps to 60, because why not?\n",
    "cap.set(cv.CAP_PROP_FPS, 60)\n",
    "\n",
    "_, previousFrame = cap.read()\n",
    "previousFrame = cv.cvtColor(previousFrame, cv.COLOR_BGR2GRAY)\n",
    "\n",
    "while True:\n",
    "    \n",
    "    # capture each frame from the video feed\n",
    "    _, frame = cap.read()\n",
    "    \n",
    "    if frame is None:\n",
    "        break\n",
    "\n",
    "    #todo for visualising only, remove later\n",
    "    cv.namedWindow(\"live input\", cv.WINDOW_NORMAL)\n",
    "    cv.imshow(\"live input\", frame)\n",
    "    \n",
    "    \n",
    "    #  process each frame here: \n",
    "    \n",
    "    frame = cv.cvtColor(frame, cv.COLOR_BGR2GRAY)\n",
    "    frame = cv.GaussianBlur(frame, (5,5), 0 )\n",
    "    \n",
    "    currentFrameNumber +=1\n",
    "    \n",
    "    frameList.append(frame)\n",
    "    \n",
    "    if(currentFrameNumber >= prevFrameNumber):\n",
    "        \n",
    "        currentFrameNumber = 0\n",
    "        previousFrame = frameList.pop(0)\n",
    "        previousFrame = cv.bitwise_not(previousFrame)\n",
    "        frameList.clear()\n",
    "    \n",
    "       \n",
    "    frame = cv.addWeighted(frame, 0.5, previousFrame, 0.5, 0)\n",
    "    \n",
    "    # use the treshold for using it as some sort of special effect by addign it back to the original \n",
    "    # _, frame = cv.threshold(frame, treshold, 255, cv.THRESH_BINARY)\n",
    "    \n",
    "    # display the video in a window, per frame:\n",
    "    \n",
    "    cv.namedWindow(\"video\", cv.WINDOW_NORMAL)\n",
    "    cv.imshow(\"video\", frame)\n",
    "    \n",
    "    # quit the loop if 'q' is pressed\n",
    "    #! close the window by typing \"q\", closing it normally will cause the kernel to crash, \n",
    "    #! among other things\n",
    "    \n",
    "    if cv.waitKey(1) == ord('q'):\n",
    "        break\n",
    "\n",
    "cap.release()\n",
    "cv.destroyAllWindows()\n",
    "    "
   ]
  }
 ],
 "metadata": {
  "kernelspec": {
   "display_name": "myEnv",
   "language": "python",
   "name": "python3"
  },
  "language_info": {
   "codemirror_mode": {
    "name": "ipython",
    "version": 3
   },
   "file_extension": ".py",
   "mimetype": "text/x-python",
   "name": "python",
   "nbconvert_exporter": "python",
   "pygments_lexer": "ipython3",
   "version": "3.11.7"
  }
 },
 "nbformat": 4,
 "nbformat_minor": 2
}
